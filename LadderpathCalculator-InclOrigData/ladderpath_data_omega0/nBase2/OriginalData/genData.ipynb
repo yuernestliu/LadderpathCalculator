{
 "cells": [
  {
   "cell_type": "code",
   "execution_count": 1,
   "metadata": {},
   "outputs": [],
   "source": [
    "import numpy as np\n",
    "import random\n",
    "import ladderpath as lp\n",
    "import pandas as pd"
   ]
  },
  {
   "cell_type": "code",
   "execution_count": 4,
   "metadata": {},
   "outputs": [],
   "source": [
    "nBase = 4\n",
    "S_max = 10\n",
    "N_repeat = 10000\n",
    "\n",
    "letterList = ['1', '2', '3', '4', '5', '6', '7', '8', '9', '0']\n",
    "omegaMat = {}\n",
    "for S in range(1, S_max+1):\n",
    "    omegaList = []\n",
    "    for i in range(N_repeat):\n",
    "        str0 = [ ''.join( letterList[random.randint(0, nBase-1)] for _ in range(S) ) ]\n",
    "        lp0 = lp.ladderpath(str0)\n",
    "        omegaList.append( lp0.index3[1] )\n",
    "    omegaMat[S] = omegaList\n",
    "omegaMat = pd.DataFrame(omegaMat)\n",
    "omegaMat\n",
    "\n",
    "fileName = 'nBase' + str(nBase) + '-Smax' + str(S_max) \\\n",
    "    + '-Nrep' + str(N_repeat) + '.csv'\n",
    "omegaMat.to_csv(fileName)"
   ]
  },
  {
   "cell_type": "code",
   "execution_count": 1,
   "metadata": {},
   "outputs": [],
   "source": [
    "# np.mean(pd.read_csv(fileName))[1:]"
   ]
  },
  {
   "cell_type": "code",
   "execution_count": null,
   "metadata": {},
   "outputs": [],
   "source": []
  },
  {
   "cell_type": "code",
   "execution_count": null,
   "metadata": {},
   "outputs": [],
   "source": []
  },
  {
   "cell_type": "code",
   "execution_count": null,
   "metadata": {},
   "outputs": [],
   "source": []
  },
  {
   "cell_type": "code",
   "execution_count": null,
   "metadata": {},
   "outputs": [],
   "source": []
  },
  {
   "cell_type": "code",
   "execution_count": null,
   "metadata": {},
   "outputs": [],
   "source": []
  },
  {
   "cell_type": "code",
   "execution_count": null,
   "metadata": {},
   "outputs": [],
   "source": []
  },
  {
   "cell_type": "code",
   "execution_count": null,
   "metadata": {},
   "outputs": [],
   "source": []
  }
 ],
 "metadata": {
  "kernelspec": {
   "display_name": "cleanenv",
   "language": "python",
   "name": "python3"
  },
  "language_info": {
   "codemirror_mode": {
    "name": "ipython",
    "version": 3
   },
   "file_extension": ".py",
   "mimetype": "text/x-python",
   "name": "python",
   "nbconvert_exporter": "python",
   "pygments_lexer": "ipython3",
   "version": "3.9.7"
  },
  "orig_nbformat": 4
 },
 "nbformat": 4,
 "nbformat_minor": 2
}
